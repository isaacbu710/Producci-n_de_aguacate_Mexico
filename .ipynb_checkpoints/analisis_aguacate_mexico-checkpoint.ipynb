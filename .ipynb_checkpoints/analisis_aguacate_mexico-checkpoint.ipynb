{
 "cells": [
  {
   "cell_type": "code",
   "execution_count": null,
   "id": "b5ecf1d2-a5cc-4720-b5c8-af4c473d77a6",
   "metadata": {},
   "outputs": [],
   "source": [
    "import pandas as pd\n",
    "import matplotlib.pyplot as plt\n",
    "import seaborn as sns\n",
    "\n",
    "# Cargar dataset\n",
    "data = pd.read_csv(\"../data/world_food_production.csv\")\n",
    "\n",
    "# Filtrar solo aguacate\n",
    "avocado = data[data[\"Item\"] == \"Avocados\"]\n",
    "\n",
    "# Filtrar países de interés\n",
    "paises = [\"Mexico\", \"Colombia\", \"Peru\", \"Dominican Republic\", \"Indonesia\", \"Kenya\"]\n",
    "avocado = avocado[avocado[\"Area\"].isin(paises)]\n",
    "\n",
    "# Graficar\n",
    "plt.figure(figsize=(12,6))\n",
    "sns.lineplot(data=avocado, x=\"Year\", y=\"Value\", hue=\"Area\")\n",
    "plt.title(\"Producción de aguacate en México y principales países productores\")\n",
    "plt.ylabel(\"Producción (toneladas)\")\n",
    "plt.xlabel(\"Año\")\n",
    "plt.legend(title=\"País\")\n",
    "plt.grid(True)\n",
    "plt.savefig(\"../images/grafico_produccion.png\")  # Guarda el gráfico en la carpeta images\n",
    "plt.show()\n"
   ]
  },
  {
   "cell_type": "code",
   "execution_count": null,
   "id": "76ca1c38-995f-4b8c-bd72-47bd589079e9",
   "metadata": {},
   "outputs": [],
   "source": []
  }
 ],
 "metadata": {
  "kernelspec": {
   "display_name": "Python 3 (ipykernel)",
   "language": "python",
   "name": "python3"
  },
  "language_info": {
   "codemirror_mode": {
    "name": "ipython",
    "version": 3
   },
   "file_extension": ".py",
   "mimetype": "text/x-python",
   "name": "python",
   "nbconvert_exporter": "python",
   "pygments_lexer": "ipython3",
   "version": "3.12.7"
  }
 },
 "nbformat": 4,
 "nbformat_minor": 5
}
